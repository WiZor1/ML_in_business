{
 "cells": [
  {
   "cell_type": "markdown",
   "metadata": {},
   "source": [
    "## Задания\n",
    "\n",
    "1. скачать набор данных маркетинговых кампаний отсюда https://www.kaggle.com/davinwijaya/customer-retention\n",
    "2. там поле conversion - это целевая переменная, а offer - коммуникация. Переименовать поля (conversion -> target, offer -> treatment) и привести поле treatment к бинарному виду (1 или 0, т.е было какое-то предложение или нет) - значение No Offer означает отсутствие коммуникации, а все остальные - наличие.\n",
    "3. сделать разбиение набора данных не тренировочную и тестовую выборки\n",
    "4. сделать feature engineering на ваше усмотрение (допускается свобода выбора методов)\n",
    "5. провести uplift-моделирование 3 способами: одна модель с признаком коммуникации (S learner), модель с трансформацией таргета (трансформация классов п. 2. 1) и вариант с двумя независимыми моделями\n",
    "6. в конце вывести единую таблицу сравнения метрик uplift@10%, uplift@20% этих 3 моделей\n",
    "7. построить модель UpliftTreeClassifier и попытаться описать словами полученное дерево\n",
    "8. (опционально) для модели S learner (модель с дополнительным признаком коммуникации) построить зависимость таргета (конверсии - поле conversion) от значения uplift: 1) сделать прогноз и получить uplift для тестовой выборки 2) отсортировать тестовую выборку по uplift по убыванию 3) разбить на децили (pandas qcut вам в помощь) 4) для каждого дециля посчитать среднюю conversion\n",
    "9. (опционально) построить модель UpliftRandomForestClassifier и попытаться описать словами полученное дерево\n",
    "\n",
    "-----"
   ]
  },
  {
   "cell_type": "code",
   "execution_count": 38,
   "metadata": {},
   "outputs": [],
   "source": [
    "import os\n",
    "from pathlib import Path\n",
    "import numpy as np\n",
    "import pandas as pd\n",
    "from causalml.inference.tree import UpliftTreeClassifier, UpliftRandomForestClassifier, uplift_tree_string, uplift_tree_plot\n",
    "\n",
    "from sklearn.linear_model import LogisticRegression\n",
    "from sklearn.tree import DecisionTreeClassifier\n",
    "from sklearn.metrics import f1_score, precision_recall_curve\n",
    "from sklearn.pipeline import Pipeline, make_pipeline, FeatureUnion\n",
    "from sklearn.base import BaseEstimator, TransformerMixin, ClassifierMixin\n",
    "from sklearn.preprocessing import MinMaxScaler\n",
    "\n",
    "from sklift.metrics import uplift_at_k\n",
    "from sklift.viz import plot_uplift_preds\n",
    "from sklift.models import SoloModel, TwoModels, ClassTransformation\n",
    "\n",
    "from catboost import CatBoostClassifier\n",
    "\n",
    "import xgboost as xgb\n",
    "\n",
    "from matplotlib import pyplot as plt\n",
    "import seaborn as sns\n",
    "\n",
    "from sklearn.model_selection import train_test_split"
   ]
  },
  {
   "cell_type": "markdown",
   "metadata": {},
   "source": [
    "-----\n",
    "Задания 1-3:"
   ]
  },
  {
   "cell_type": "code",
   "execution_count": 2,
   "metadata": {},
   "outputs": [],
   "source": [
    "data_path_name = 'data'\n",
    "os.system(\"kaggle datasets download davinwijaya/customer-retention --unzip -p \" + data_path_name)\n",
    "\n",
    "DATA_PATH = Path('./' + data_path_name)\n",
    "DATASET = DATA_PATH / 'data.csv'"
   ]
  },
  {
   "cell_type": "code",
   "execution_count": 3,
   "metadata": {},
   "outputs": [
    {
     "data": {
      "text/html": [
       "<div>\n",
       "<style scoped>\n",
       "    .dataframe tbody tr th:only-of-type {\n",
       "        vertical-align: middle;\n",
       "    }\n",
       "\n",
       "    .dataframe tbody tr th {\n",
       "        vertical-align: top;\n",
       "    }\n",
       "\n",
       "    .dataframe thead th {\n",
       "        text-align: right;\n",
       "    }\n",
       "</style>\n",
       "<table border=\"1\" class=\"dataframe\">\n",
       "  <thead>\n",
       "    <tr style=\"text-align: right;\">\n",
       "      <th></th>\n",
       "      <th>recency</th>\n",
       "      <th>history</th>\n",
       "      <th>used_discount</th>\n",
       "      <th>used_bogo</th>\n",
       "      <th>zip_code</th>\n",
       "      <th>is_referral</th>\n",
       "      <th>channel</th>\n",
       "      <th>treatment</th>\n",
       "      <th>target</th>\n",
       "    </tr>\n",
       "  </thead>\n",
       "  <tbody>\n",
       "    <tr>\n",
       "      <th>0</th>\n",
       "      <td>10</td>\n",
       "      <td>142.44</td>\n",
       "      <td>1</td>\n",
       "      <td>0</td>\n",
       "      <td>Surburban</td>\n",
       "      <td>0</td>\n",
       "      <td>Phone</td>\n",
       "      <td>1</td>\n",
       "      <td>0</td>\n",
       "    </tr>\n",
       "    <tr>\n",
       "      <th>1</th>\n",
       "      <td>6</td>\n",
       "      <td>329.08</td>\n",
       "      <td>1</td>\n",
       "      <td>1</td>\n",
       "      <td>Rural</td>\n",
       "      <td>1</td>\n",
       "      <td>Web</td>\n",
       "      <td>0</td>\n",
       "      <td>0</td>\n",
       "    </tr>\n",
       "    <tr>\n",
       "      <th>2</th>\n",
       "      <td>7</td>\n",
       "      <td>180.65</td>\n",
       "      <td>0</td>\n",
       "      <td>1</td>\n",
       "      <td>Surburban</td>\n",
       "      <td>1</td>\n",
       "      <td>Web</td>\n",
       "      <td>1</td>\n",
       "      <td>0</td>\n",
       "    </tr>\n",
       "    <tr>\n",
       "      <th>3</th>\n",
       "      <td>9</td>\n",
       "      <td>675.83</td>\n",
       "      <td>1</td>\n",
       "      <td>0</td>\n",
       "      <td>Rural</td>\n",
       "      <td>1</td>\n",
       "      <td>Web</td>\n",
       "      <td>1</td>\n",
       "      <td>0</td>\n",
       "    </tr>\n",
       "    <tr>\n",
       "      <th>4</th>\n",
       "      <td>2</td>\n",
       "      <td>45.34</td>\n",
       "      <td>1</td>\n",
       "      <td>0</td>\n",
       "      <td>Urban</td>\n",
       "      <td>0</td>\n",
       "      <td>Web</td>\n",
       "      <td>1</td>\n",
       "      <td>0</td>\n",
       "    </tr>\n",
       "  </tbody>\n",
       "</table>\n",
       "</div>"
      ],
      "text/plain": [
       "   recency  history  used_discount  used_bogo   zip_code  is_referral channel  \\\n",
       "0       10   142.44              1          0  Surburban            0   Phone   \n",
       "1        6   329.08              1          1      Rural            1     Web   \n",
       "2        7   180.65              0          1  Surburban            1     Web   \n",
       "3        9   675.83              1          0      Rural            1     Web   \n",
       "4        2    45.34              1          0      Urban            0     Web   \n",
       "\n",
       "   treatment  target  \n",
       "0          1       0  \n",
       "1          0       0  \n",
       "2          1       0  \n",
       "3          1       0  \n",
       "4          1       0  "
      ]
     },
     "execution_count": 3,
     "metadata": {},
     "output_type": "execute_result"
    }
   ],
   "source": [
    "df = pd.read_csv(DATASET)\n",
    "df.rename(columns={'conversion': 'target', 'offer': 'treatment'}, inplace=True)\n",
    "df.treatment = (df.treatment != 'No Offer').astype('int64')\n",
    "df.head()"
   ]
  },
  {
   "cell_type": "code",
   "execution_count": 4,
   "metadata": {},
   "outputs": [],
   "source": [
    "X_train, X_test, y_train, y_test = train_test_split(df.drop(columns='target'),\n",
    "                                                    df.target,\n",
    "                                                    test_size=0.2,\n",
    "                                                    random_state=33,\n",
    "                                                    stratify=df['treatment'])"
   ]
  },
  {
   "cell_type": "markdown",
   "metadata": {},
   "source": [
    "------\n",
    "Задание 4:"
   ]
  },
  {
   "cell_type": "markdown",
   "metadata": {},
   "source": [
    "Рассмотрим типы данных датасета и разделим их на логические части:"
   ]
  },
  {
   "cell_type": "code",
   "execution_count": 5,
   "metadata": {},
   "outputs": [
    {
     "data": {
      "text/plain": [
       "recency          0\n",
       "history          0\n",
       "used_discount    0\n",
       "used_bogo        0\n",
       "zip_code         0\n",
       "is_referral      0\n",
       "channel          0\n",
       "treatment        0\n",
       "target           0\n",
       "dtype: int64"
      ]
     },
     "execution_count": 5,
     "metadata": {},
     "output_type": "execute_result"
    }
   ],
   "source": [
    "df.isna().sum()"
   ]
  },
  {
   "cell_type": "markdown",
   "metadata": {},
   "source": [
    "Все значения присутствуют. Обрабатывать пропуски не нужно."
   ]
  },
  {
   "cell_type": "code",
   "execution_count": 6,
   "metadata": {
    "scrolled": true
   },
   "outputs": [
    {
     "data": {
      "text/plain": [
       "recency            int64\n",
       "history          float64\n",
       "used_discount      int64\n",
       "used_bogo          int64\n",
       "zip_code          object\n",
       "is_referral        int64\n",
       "channel           object\n",
       "treatment          int64\n",
       "dtype: object"
      ]
     },
     "execution_count": 6,
     "metadata": {},
     "output_type": "execute_result"
    }
   ],
   "source": [
    "X_train.dtypes"
   ]
  },
  {
   "cell_type": "code",
   "execution_count": 7,
   "metadata": {},
   "outputs": [],
   "source": [
    "features_num = X_train.dtypes[df.dtypes != 'object'].index\n",
    "features_cat = X_train.dtypes[df.dtypes == 'object'].index"
   ]
  },
  {
   "cell_type": "code",
   "execution_count": 8,
   "metadata": {},
   "outputs": [
    {
     "data": {
      "text/html": [
       "<div>\n",
       "<style scoped>\n",
       "    .dataframe tbody tr th:only-of-type {\n",
       "        vertical-align: middle;\n",
       "    }\n",
       "\n",
       "    .dataframe tbody tr th {\n",
       "        vertical-align: top;\n",
       "    }\n",
       "\n",
       "    .dataframe thead th {\n",
       "        text-align: right;\n",
       "    }\n",
       "</style>\n",
       "<table border=\"1\" class=\"dataframe\">\n",
       "  <thead>\n",
       "    <tr style=\"text-align: right;\">\n",
       "      <th></th>\n",
       "      <th>recency</th>\n",
       "      <th>history</th>\n",
       "      <th>used_discount</th>\n",
       "      <th>used_bogo</th>\n",
       "      <th>is_referral</th>\n",
       "      <th>treatment</th>\n",
       "    </tr>\n",
       "  </thead>\n",
       "  <tbody>\n",
       "    <tr>\n",
       "      <th>count</th>\n",
       "      <td>64000.000000</td>\n",
       "      <td>64000.000000</td>\n",
       "      <td>64000.000000</td>\n",
       "      <td>64000.000000</td>\n",
       "      <td>64000.000000</td>\n",
       "      <td>64000.000000</td>\n",
       "    </tr>\n",
       "    <tr>\n",
       "      <th>mean</th>\n",
       "      <td>5.763734</td>\n",
       "      <td>242.085656</td>\n",
       "      <td>0.551031</td>\n",
       "      <td>0.549719</td>\n",
       "      <td>0.502250</td>\n",
       "      <td>0.667094</td>\n",
       "    </tr>\n",
       "    <tr>\n",
       "      <th>std</th>\n",
       "      <td>3.507592</td>\n",
       "      <td>256.158608</td>\n",
       "      <td>0.497393</td>\n",
       "      <td>0.497526</td>\n",
       "      <td>0.499999</td>\n",
       "      <td>0.471257</td>\n",
       "    </tr>\n",
       "    <tr>\n",
       "      <th>min</th>\n",
       "      <td>1.000000</td>\n",
       "      <td>29.990000</td>\n",
       "      <td>0.000000</td>\n",
       "      <td>0.000000</td>\n",
       "      <td>0.000000</td>\n",
       "      <td>0.000000</td>\n",
       "    </tr>\n",
       "    <tr>\n",
       "      <th>25%</th>\n",
       "      <td>2.000000</td>\n",
       "      <td>64.660000</td>\n",
       "      <td>0.000000</td>\n",
       "      <td>0.000000</td>\n",
       "      <td>0.000000</td>\n",
       "      <td>0.000000</td>\n",
       "    </tr>\n",
       "    <tr>\n",
       "      <th>50%</th>\n",
       "      <td>6.000000</td>\n",
       "      <td>158.110000</td>\n",
       "      <td>1.000000</td>\n",
       "      <td>1.000000</td>\n",
       "      <td>1.000000</td>\n",
       "      <td>1.000000</td>\n",
       "    </tr>\n",
       "    <tr>\n",
       "      <th>75%</th>\n",
       "      <td>9.000000</td>\n",
       "      <td>325.657500</td>\n",
       "      <td>1.000000</td>\n",
       "      <td>1.000000</td>\n",
       "      <td>1.000000</td>\n",
       "      <td>1.000000</td>\n",
       "    </tr>\n",
       "    <tr>\n",
       "      <th>max</th>\n",
       "      <td>12.000000</td>\n",
       "      <td>3345.930000</td>\n",
       "      <td>1.000000</td>\n",
       "      <td>1.000000</td>\n",
       "      <td>1.000000</td>\n",
       "      <td>1.000000</td>\n",
       "    </tr>\n",
       "  </tbody>\n",
       "</table>\n",
       "</div>"
      ],
      "text/plain": [
       "            recency       history  used_discount     used_bogo   is_referral  \\\n",
       "count  64000.000000  64000.000000   64000.000000  64000.000000  64000.000000   \n",
       "mean       5.763734    242.085656       0.551031      0.549719      0.502250   \n",
       "std        3.507592    256.158608       0.497393      0.497526      0.499999   \n",
       "min        1.000000     29.990000       0.000000      0.000000      0.000000   \n",
       "25%        2.000000     64.660000       0.000000      0.000000      0.000000   \n",
       "50%        6.000000    158.110000       1.000000      1.000000      1.000000   \n",
       "75%        9.000000    325.657500       1.000000      1.000000      1.000000   \n",
       "max       12.000000   3345.930000       1.000000      1.000000      1.000000   \n",
       "\n",
       "          treatment  \n",
       "count  64000.000000  \n",
       "mean       0.667094  \n",
       "std        0.471257  \n",
       "min        0.000000  \n",
       "25%        0.000000  \n",
       "50%        1.000000  \n",
       "75%        1.000000  \n",
       "max        1.000000  "
      ]
     },
     "execution_count": 8,
     "metadata": {},
     "output_type": "execute_result"
    }
   ],
   "source": [
    "df[features_num].describe()"
   ]
  },
  {
   "cell_type": "markdown",
   "metadata": {},
   "source": [
    "Как видно, из списка числовых признаков выделяются биномиальные величины и непрерывные (или подобные им, как, например, `recency`). Разделим и их:"
   ]
  },
  {
   "cell_type": "code",
   "execution_count": 9,
   "metadata": {},
   "outputs": [],
   "source": [
    "features_cont = ['recency', 'history']\n",
    "features_binom = list(set(features_num) - set(features_cont))"
   ]
  },
  {
   "cell_type": "markdown",
   "metadata": {},
   "source": [
    "Рассмотрение признаков ***со значечниями 0 и 1*** пока нет смысла делать столь тщательно, можно лишь оценить, нет ли колонок, принимающих всего лишь одно значение:"
   ]
  },
  {
   "cell_type": "code",
   "execution_count": 10,
   "metadata": {
    "scrolled": true
   },
   "outputs": [
    {
     "data": {
      "text/plain": [
       "is_referral      0.250002\n",
       "used_discount    0.247452\n",
       "treatment        0.222085\n",
       "used_bogo        0.247520\n",
       "dtype: float64"
      ]
     },
     "execution_count": 10,
     "metadata": {},
     "output_type": "execute_result"
    }
   ],
   "source": [
    "X_train[features_binom].var()"
   ]
  },
  {
   "cell_type": "markdown",
   "metadata": {},
   "source": [
    "Во всех таких колонках содержатся полезные данные.\n",
    "\n",
    "----\n",
    "\n",
    "Далее можно рассмотреть признаки с ***непрерывными*** значениями:"
   ]
  },
  {
   "cell_type": "code",
   "execution_count": 11,
   "metadata": {},
   "outputs": [
    {
     "data": {
      "image/png": "[encoded data removed]",
      "text/plain": [
       "<Figure size 720x288 with 2 Axes>"
      ]
     },
     "metadata": {
      "needs_background": "light"
     },
     "output_type": "display_data"
    }
   ],
   "source": [
    "X_train[features_cont].hist(figsize=(10, 4), bins=23)\n",
    "plt.show()"
   ]
  },
  {
   "cell_type": "markdown",
   "metadata": {},
   "source": [
    "Как видно, распределение псевдонепрерывного признака `recency` имеет явный рост на значениях 9 и 10, что может говорить о том, что в этот период проводилась активная рекламная кампания, можно попробовать выделить этот период в отдельный признак, если частота оттока в эти моменты была отличная от других:"
   ]
  },
  {
   "cell_type": "code",
   "execution_count": 12,
   "metadata": {
    "scrolled": false
   },
   "outputs": [
    {
     "data": {
      "image/png": "[encoded data removed]",
      "text/plain": [
       "<Figure size 432x288 with 1 Axes>"
      ]
     },
     "metadata": {
      "needs_background": "light"
     },
     "output_type": "display_data"
    }
   ],
   "source": [
    "rec_tar_dict = dict()\n",
    "for val in X_train['recency'].value_counts().sort_index().index:\n",
    "    rec_tar_dict[val] = y_train[X_train[\"recency\"] == val].mean()\n",
    "\n",
    "plt.bar(rec_tar_dict.keys(), rec_tar_dict.values(), alpha=0.6)\n",
    "plt.bar([9, 10], [rec_tar_dict[9], rec_tar_dict[10]], color='r', alpha=0.6)\n",
    "plt.ylim([min(rec_tar_dict.values()) / 1.1, max(rec_tar_dict.values()) * 1.1])\n",
    "plt.title('Вероятность оттока от момента последней покупки')\n",
    "plt.grid()\n",
    "plt.show()"
   ]
  },
  {
   "cell_type": "markdown",
   "metadata": {},
   "source": [
    "Действительно, даже на первый взгляд разница отчетливо видна."
   ]
  },
  {
   "cell_type": "markdown",
   "metadata": {},
   "source": [
    "----\n",
    "\n",
    "Далее рассмотрим признак `history`, распределение которого на первый взгляд ничего интересного не показывает.<br>\n",
    "Как видно, график имеет достаточно длинный хвост и хочется иметь возможность его или убрать, или корректно обработать. Для выбора решения построим график распределения разницы средней вероятности оттока для \"левой\" и \"правой\" частей выборки, разбитой по определенному порогу (получим некий аналог критерия Джини или энтропии): "
   ]
  },
  {
   "cell_type": "code",
   "execution_count": 13,
   "metadata": {},
   "outputs": [],
   "source": [
    "min_history, max_history = X_train['history'].min(), X_train['history'].max()\n",
    "threshold_history = dict()\n",
    "\n",
    "for i, q in enumerate(np.linspace(0, 1, 50)):\n",
    "    thr = X_train['history'].quantile(q)\n",
    "    bt = y_train[X_train['history'] > thr].mean()\n",
    "    le = y_train[~(X_train['history'] > thr)].mean()\n",
    "    threshold_history[thr] = bt - le"
   ]
  },
  {
   "cell_type": "code",
   "execution_count": 14,
   "metadata": {},
   "outputs": [
    {
     "data": {
      "image/png": "[encoded data removed]",
      "text/plain": [
       "<Figure size 720x360 with 1 Axes>"
      ]
     },
     "metadata": {
      "needs_background": "light"
     },
     "output_type": "display_data"
    }
   ],
   "source": [
    "min_ = min(threshold_history.values())\n",
    "max_ = max(threshold_history.values())\n",
    "plt.figure(figsize=[10, 5])\n",
    "plt.plot(np.linspace(0, 1, len(threshold_history)), threshold_history.values(), color='g')\n",
    "plt.text(0.35, 0.052, '1', size='large', color='r')\n",
    "plt.plot([0.47, 0.47], [min_, max_], color='r', linestyle=':')\n",
    "plt.text(0.65, 0.042, '2', size='large', color='r')\n",
    "plt.plot([0.78, 0.78], [min_, max_], color='r', linestyle=':')\n",
    "plt.text(0.85, 0.062, '3', size='large', color='r')\n",
    "plt.plot([0.93, 0.93], [min_, max_], color='r', linestyle=':')\n",
    "plt.text(0.97, 0.052, '4', size='large', color='r')\n",
    "plt.xticks(np.linspace(0, 1, 11))\n",
    "plt.grid(alpha=0.3)\n",
    "plt.title('Распределение разниц вероятности оттока для признака history')\n",
    "plt.xlabel('Квантиль')\n",
    "plt.ylabel('Разницы вероятности оттока, %')\n",
    "plt.show()"
   ]
  },
  {
   "cell_type": "markdown",
   "metadata": {},
   "source": [
    "Здесь можно выделить 4 части, на которых:\n",
    "1. происходит рост разницы\n",
    "2. наблюдается плато достаточно высоких значений\n",
    "3. разница между группами клиентов снижается. Таким образом такие клиенты по сравнению с прошлой группой будут дольше находиться у нас и не попадут в отток\n",
    "4. разница стремится к наибольшим значениям (таких клиентов и можно назвать китами, а то, что их вероятность оттока выше остальных может говорить не о самых удачных подходах к группе. Возможно, стоит пересмотреть отношение к ним в общем и целом &#128578;)\n",
    "\n",
    "Таким образом при имеющемся разнообразии на графике придется отказаться от идеи удаления \"выбросов\" и предлагается сделать 4 новых биномиальных признака принадлежности к каждой группе."
   ]
  },
  {
   "cell_type": "markdown",
   "metadata": {},
   "source": [
    "----\n",
    "\n",
    "Рассмотрим ***категориальные*** признаки и их вклад в целевую переменную:"
   ]
  },
  {
   "cell_type": "code",
   "execution_count": 15,
   "metadata": {},
   "outputs": [
    {
     "name": "stdout",
     "output_type": "stream",
     "text": [
      "Feature  Value\t\tCount\t%1class for target (0.1468 default)\n",
      "------\n",
      "zip_code\n",
      "\t Surburban      23002    0.1401\n",
      "\t Urban          20574    0.1396\n",
      "\t Rural           7624    0.1861\n",
      "------\n",
      "channel\n",
      "\t Web            22542    0.1595\n",
      "\t Phone          22528    0.1276\n",
      "\t Multichannel    6130    0.1705\n"
     ]
    }
   ],
   "source": [
    "print(f'Feature  Value\\t\\tCount\\t%1class for target ({round(y_train.mean(), 4)} default)')\n",
    "for column in features_cat:\n",
    "    print('------')\n",
    "    print(column)\n",
    "    for val in X_train[column].value_counts().sort_values(ascending=False).index:\n",
    "        print('\\t ', end='')\n",
    "        print(f'{val:12}{(X_train[column] == val).sum():8}{round(y_train[X_train[column] == val].mean(), 4):10}')"
   ]
  },
  {
   "cell_type": "markdown",
   "metadata": {},
   "source": [
    "1. Для `zip_code` можно выделить две группы: немногочисленные пользователи со значением признака равным `Rural` и повышенной вероятностью оттока и многочисленная остальная часть с вероятностью оттока ниже. Предлагается создать биномиальный признак (взамен текущего) на равенство значению `Rural`.\n",
    "2. Для `channel` подобных явных закономерностей не наблюдается, поэтому можно перевести признак в 3 новых на равенство каждого из значений."
   ]
  },
  {
   "cell_type": "markdown",
   "metadata": {},
   "source": [
    "----\n",
    "\n",
    "Подготовим пайплайны:"
   ]
  },
  {
   "cell_type": "code",
   "execution_count": 16,
   "metadata": {},
   "outputs": [],
   "source": [
    "class ColumnSelector(BaseEstimator, TransformerMixin):\n",
    "    \"\"\"\n",
    "    Transformer to select a single column from the data frame to perform additional transformations on\n",
    "    \"\"\"\n",
    "    def __init__(self, key):\n",
    "        self.key = key\n",
    "\n",
    "    def fit(self, X, y=None):\n",
    "        return self\n",
    "\n",
    "    def transform(self, X):\n",
    "        return X[self.key]\n",
    "    \n",
    "class NumberSelector(BaseEstimator, TransformerMixin):\n",
    "    \"\"\"\n",
    "    Transformer to select a single column from the data frame to perform additional transformations on\n",
    "    Use on numeric columns in the data\n",
    "    \"\"\"\n",
    "    def __init__(self, key):\n",
    "        self.key = key\n",
    "\n",
    "    def fit(self, X, y=None):\n",
    "        return self\n",
    "\n",
    "    def transform(self, X):\n",
    "        return X[[self.key]]\n",
    "    \n",
    "class OHEEncoder(BaseEstimator, TransformerMixin):\n",
    "    def __init__(self, key):\n",
    "        self.key = key\n",
    "        self.columns = []\n",
    "\n",
    "    def fit(self, X, y=None):\n",
    "        self.columns = [col for col in pd.get_dummies(X, prefix=self.key).columns]\n",
    "        return self\n",
    "\n",
    "    def transform(self, X):\n",
    "        X = pd.get_dummies(X, prefix=self.key)\n",
    "        test_columns = [col for col in X.columns]\n",
    "        for col_ in test_columns:\n",
    "            if col_ not in self.columns:\n",
    "                X[col_] = 0\n",
    "        return X[self.columns]\n",
    "\n",
    "class FeatureCreating(BaseEstimator, TransformerMixin):\n",
    "    def __init__(self):\n",
    "        self.__fitted = False\n",
    "    \n",
    "    def fit(self, X, y=None):\n",
    "        self.__history_1 = X['history'].quantile(0.47)\n",
    "        self.__history_2 = X['history'].quantile(0.78)\n",
    "        self.__history_3 = X['history'].quantile(0.93)\n",
    "        \n",
    "        self.__fitted = True\n",
    "        \n",
    "        return self\n",
    "    \n",
    "    def transform(self, X, y=None):\n",
    "        if self.__fitted:\n",
    "            X = X.copy()\n",
    "            X['recency_9-10'] = X['recency'].isin([9, 10]).astype('int64')\n",
    "            \n",
    "            X['history_1'] = (X['history'] < self.__history_1).astype('int64')\n",
    "            X['history_2'] = ((X['history'] >= self.__history_1) & (X['history'] < self.__history_2)).astype('int64')\n",
    "            X['history_3'] = ((X['history'] >= self.__history_2) & (X['history'] < self.__history_3)).astype('int64')\n",
    "            X['history_4'] = (X['history'] >= self.__history_3).astype('int64')\n",
    "            \n",
    "            X['zip_code_is_Rural'] = (X['zip_code'] == 'Rural').astype('int64')\n",
    "            X.drop(columns='zip_code', inplace=True)\n",
    "            \n",
    "            X = pd.get_dummies(X, columns=['channel'])\n",
    "            \n",
    "            return X\n",
    "        else:\n",
    "            raise BaseException('Object not fitted.')\n",
    "\n",
    "            \n",
    "def proba_to_cls(y_proba, thr):\n",
    "    return (y_proba > thr).astype('int')"
   ]
  },
  {
   "cell_type": "code",
   "execution_count": 17,
   "metadata": {},
   "outputs": [],
   "source": [
    "pipeline = Pipeline([('transform', FeatureCreating()),\n",
    "                     ('cls', xgb.XGBClassifier(eval_metric='logloss',\n",
    "                                               use_label_encoder=False,\n",
    "                                               max_depth=4,\n",
    "                                               learning_rate=0.1,\n",
    "                                               n_estimators=300))])\n",
    "\n",
    "pipeline.fit(X_train, y_train)\n",
    "pred_proba_train = pipeline.predict_proba(X_train)[:, 1]\n",
    "pred_proba_test = pipeline.predict_proba(X_test)[:, 1]"
   ]
  },
  {
   "cell_type": "markdown",
   "metadata": {},
   "source": [
    "Найдем оптимальные пороги и проверим, не сильно ли переобучилась модель:"
   ]
  },
  {
   "cell_type": "code",
   "execution_count": 18,
   "metadata": {},
   "outputs": [
    {
     "name": "stdout",
     "output_type": "stream",
     "text": [
      "Best Threshold=0.181533, F-Score=0.351, Precision=0.268, Recall=0.508\n"
     ]
    }
   ],
   "source": [
    "precision, recall, thresholds = precision_recall_curve(y_train, pred_proba_train)\n",
    "\n",
    "fscore = 2*(precision * recall) / (precision + recall)\n",
    "ix = np.argmax(fscore)\n",
    "print('Best Threshold=%f, F-Score=%.3f, Precision=%.3f, Recall=%.3f' % (thresholds[ix], \n",
    "                                                                        fscore[ix],\n",
    "                                                                        precision[ix],\n",
    "                                                                        recall[ix]))"
   ]
  },
  {
   "cell_type": "code",
   "execution_count": 19,
   "metadata": {},
   "outputs": [
    {
     "data": {
      "text/plain": [
       "0.2841510122195878"
      ]
     },
     "execution_count": 19,
     "metadata": {},
     "output_type": "execute_result"
    }
   ],
   "source": [
    "thr = thresholds[ix]\n",
    "\n",
    "pred_train = proba_to_cls(pred_proba_train, thr)\n",
    "pred_test = proba_to_cls(pred_proba_test, thr)\n",
    "\n",
    "f1_score(y_test, pred_test)"
   ]
  },
  {
   "cell_type": "markdown",
   "metadata": {},
   "source": [
    "-----\n",
    "Задание 5:"
   ]
  },
  {
   "cell_type": "code",
   "execution_count": 40,
   "metadata": {},
   "outputs": [],
   "source": [
    "pipeline_sm = Pipeline([('transform', FeatureCreating()),\n",
    "                        ('sm', SoloModel(xgb.XGBClassifier(eval_metric='logloss',\n",
    "                                                           use_label_encoder=False,\n",
    "                                                           max_depth=4,\n",
    "                                                           learning_rate=0.1,\n",
    "                                                           n_estimators=300)))])\n",
    "\n",
    "pipeline_tm = Pipeline([('transform', FeatureCreating()),\n",
    "                        ('tm', TwoModels(xgb.XGBClassifier(eval_metric='logloss',\n",
    "                                                           use_label_encoder=False,\n",
    "                                                           max_depth=4,\n",
    "                                                           learning_rate=0.1,\n",
    "                                                           n_estimators=300),\n",
    "                                        xgb.XGBClassifier(eval_metric='logloss',\n",
    "                                                           use_label_encoder=False,\n",
    "                                                           max_depth=4,\n",
    "                                                           learning_rate=0.1,\n",
    "                                                           n_estimators=300)))])\n",
    "\n",
    "pipeline_tr = Pipeline([('transform', FeatureCreating()),\n",
    "                        ('tr', ClassTransformation(xgb.XGBClassifier(eval_metric='logloss',\n",
    "                                                                     use_label_encoder=False,\n",
    "                                                                     max_depth=4,\n",
    "                                                                     learning_rate=0.1,\n",
    "                                                                     n_estimators=300)))])\n",
    "\n",
    "pipeline_sm.fit(X_train, y_train, sm__treatment=X_train['treatment'])\n",
    "pipeline_tm.fit(X_train, y_train, tm__treatment=X_train['treatment'])\n",
    "pipeline_tr.fit(X_train, y_train, tr__treatment=X_train['treatment'])\n",
    "\n",
    "uplift_sm = pipeline_sm.predict(X_test)\n",
    "uplift_tm = pipeline_tm.predict(X_test)\n",
    "uplift_tr = pipeline_tr.predict(X_test)"
   ]
  },
  {
   "cell_type": "code",
   "execution_count": 26,
   "metadata": {},
   "outputs": [],
   "source": [
    "res = {'approach': ['SoloModel', 'TwoModels', 'ClassTransformation']}\n",
    "\n",
    "for i in range(1, 4):\n",
    "    sm_score = uplift_at_k(y_true=y_test, uplift=uplift_sm, treatment=X_test['treatment'], strategy='by_group', k=i / 10)\n",
    "    tm_score = uplift_at_k(y_true=y_test, uplift=uplift_tm, treatment=X_test['treatment'], strategy='by_group', k=i / 10)\n",
    "    tr_score = uplift_at_k(y_true=y_test, uplift=uplift_tr, treatment=X_test['treatment'], strategy='by_group', k=i / 10)\n",
    "    \n",
    "    res[f'uplift@{i * 10}%'] = [sm_score, tm_score, tr_score]"
   ]
  },
  {
   "cell_type": "code",
   "execution_count": 28,
   "metadata": {},
   "outputs": [
    {
     "data": {
      "text/html": [
       "<div>\n",
       "<style scoped>\n",
       "    .dataframe tbody tr th:only-of-type {\n",
       "        vertical-align: middle;\n",
       "    }\n",
       "\n",
       "    .dataframe tbody tr th {\n",
       "        vertical-align: top;\n",
       "    }\n",
       "\n",
       "    .dataframe thead th {\n",
       "        text-align: right;\n",
       "    }\n",
       "</style>\n",
       "<table border=\"1\" class=\"dataframe\">\n",
       "  <thead>\n",
       "    <tr style=\"text-align: right;\">\n",
       "      <th></th>\n",
       "      <th>approach</th>\n",
       "      <th>uplift@10%</th>\n",
       "      <th>uplift@20%</th>\n",
       "      <th>uplift@30%</th>\n",
       "    </tr>\n",
       "  </thead>\n",
       "  <tbody>\n",
       "    <tr>\n",
       "      <th>0</th>\n",
       "      <td>SoloModel</td>\n",
       "      <td>0.117096</td>\n",
       "      <td>0.092343</td>\n",
       "      <td>0.078251</td>\n",
       "    </tr>\n",
       "    <tr>\n",
       "      <th>1</th>\n",
       "      <td>TwoModels</td>\n",
       "      <td>0.100658</td>\n",
       "      <td>0.091760</td>\n",
       "      <td>0.086860</td>\n",
       "    </tr>\n",
       "    <tr>\n",
       "      <th>2</th>\n",
       "      <td>ClassTransformation</td>\n",
       "      <td>0.233253</td>\n",
       "      <td>0.195582</td>\n",
       "      <td>0.165842</td>\n",
       "    </tr>\n",
       "  </tbody>\n",
       "</table>\n",
       "</div>"
      ],
      "text/plain": [
       "              approach  uplift@10%  uplift@20%  uplift@30%\n",
       "0            SoloModel    0.117096    0.092343    0.078251\n",
       "1            TwoModels    0.100658    0.091760    0.086860\n",
       "2  ClassTransformation    0.233253    0.195582    0.165842"
      ]
     },
     "execution_count": 28,
     "metadata": {},
     "output_type": "execute_result"
    }
   ],
   "source": [
    "pd.DataFrame(res)"
   ]
  },
  {
   "cell_type": "markdown",
   "metadata": {},
   "source": [
    "Видно, что прямая оценка с помощью одной/двух моделей не дали такого хорошего результата, как трансформация целевой переменной."
   ]
  },
  {
   "cell_type": "markdown",
   "metadata": {},
   "source": [
    "----\n",
    "Задание 8:"
   ]
  },
  {
   "cell_type": "code",
   "execution_count": 75,
   "metadata": {},
   "outputs": [
    {
     "data": {
      "text/html": [
       "<div>\n",
       "<style scoped>\n",
       "    .dataframe tbody tr th:only-of-type {\n",
       "        vertical-align: middle;\n",
       "    }\n",
       "\n",
       "    .dataframe tbody tr th {\n",
       "        vertical-align: top;\n",
       "    }\n",
       "\n",
       "    .dataframe thead th {\n",
       "        text-align: right;\n",
       "    }\n",
       "</style>\n",
       "<table border=\"1\" class=\"dataframe\">\n",
       "  <thead>\n",
       "    <tr style=\"text-align: right;\">\n",
       "      <th></th>\n",
       "      <th>q_uplift</th>\n",
       "      <th>target</th>\n",
       "    </tr>\n",
       "  </thead>\n",
       "  <tbody>\n",
       "    <tr>\n",
       "      <th>0</th>\n",
       "      <td>(-0.0712, 0.0269]</td>\n",
       "      <td>0.164844</td>\n",
       "    </tr>\n",
       "    <tr>\n",
       "      <th>1</th>\n",
       "      <td>(0.0269, 0.0335]</td>\n",
       "      <td>0.133594</td>\n",
       "    </tr>\n",
       "    <tr>\n",
       "      <th>2</th>\n",
       "      <td>(0.0335, 0.0393]</td>\n",
       "      <td>0.115445</td>\n",
       "    </tr>\n",
       "    <tr>\n",
       "      <th>3</th>\n",
       "      <td>(0.0393, 0.0464]</td>\n",
       "      <td>0.121875</td>\n",
       "    </tr>\n",
       "    <tr>\n",
       "      <th>4</th>\n",
       "      <td>(0.0464, 0.0563]</td>\n",
       "      <td>0.140063</td>\n",
       "    </tr>\n",
       "    <tr>\n",
       "      <th>5</th>\n",
       "      <td>(0.0563, 0.0655]</td>\n",
       "      <td>0.141406</td>\n",
       "    </tr>\n",
       "    <tr>\n",
       "      <th>6</th>\n",
       "      <td>(0.0655, 0.0728]</td>\n",
       "      <td>0.135937</td>\n",
       "    </tr>\n",
       "    <tr>\n",
       "      <th>7</th>\n",
       "      <td>(0.0728, 0.0806]</td>\n",
       "      <td>0.144860</td>\n",
       "    </tr>\n",
       "    <tr>\n",
       "      <th>8</th>\n",
       "      <td>(0.0806, 0.0973]</td>\n",
       "      <td>0.174765</td>\n",
       "    </tr>\n",
       "    <tr>\n",
       "      <th>9</th>\n",
       "      <td>(0.0973, 0.31]</td>\n",
       "      <td>0.195312</td>\n",
       "    </tr>\n",
       "  </tbody>\n",
       "</table>\n",
       "</div>"
      ],
      "text/plain": [
       "            q_uplift    target\n",
       "0  (-0.0712, 0.0269]  0.164844\n",
       "1   (0.0269, 0.0335]  0.133594\n",
       "2   (0.0335, 0.0393]  0.115445\n",
       "3   (0.0393, 0.0464]  0.121875\n",
       "4   (0.0464, 0.0563]  0.140063\n",
       "5   (0.0563, 0.0655]  0.141406\n",
       "6   (0.0655, 0.0728]  0.135937\n",
       "7   (0.0728, 0.0806]  0.144860\n",
       "8   (0.0806, 0.0973]  0.174765\n",
       "9     (0.0973, 0.31]  0.195312"
      ]
     },
     "execution_count": 75,
     "metadata": {},
     "output_type": "execute_result"
    }
   ],
   "source": [
    "df_test = X_test.copy()\n",
    "df_test['pred_uplift'] = uplift_sm\n",
    "df_test['target'] = y_test\n",
    "\n",
    "df_test = df_test.sort_values('pred_uplift', ascending=False)\n",
    "df_test\n",
    "df_test['q_uplift'] = pd.qcut(df_test['pred_uplift'], 10)\n",
    "\n",
    "df_test[['q_uplift', 'target']].groupby('q_uplift').mean().reset_index()"
   ]
  },
  {
   "cell_type": "markdown",
   "metadata": {},
   "source": [
    "В общем можно видеть общую зависимость, что при росте `uplift` показателя средняя вероятность оттока повышается, что косвенно также можно говорить об успехе расчета."
   ]
  },
  {
   "cell_type": "markdown",
   "metadata": {},
   "source": [
    "----\n",
    "Для заданий 7, 9 установить `causalml` удалось, однако при пострении распределения дерева была ошибка наподобие `GraphViz's Executables not found`, хотя эта доп. библиотека вроде как установлена. Если встречались с этим, буду рад узнать, как можно это устранить (установку через `pip/conda install graphviz/python-graphviz` делать пытался)"
   ]
  }
 ],
 "metadata": {
  "kernelspec": {
   "display_name": "Python 3",
   "language": "python",
   "name": "python3"
  },
  "language_info": {
   "codemirror_mode": {
    "name": "ipython",
    "version": 3
   },
   "file_extension": ".py",
   "mimetype": "text/x-python",
   "name": "python",
   "nbconvert_exporter": "python",
   "pygments_lexer": "ipython3",
   "version": "3.8.5"
  },
  "toc": {
   "base_numbering": 1,
   "nav_menu": {},
   "number_sections": false,
   "sideBar": true,
   "skip_h1_title": false,
   "title_cell": "Table of Contents",
   "title_sidebar": "Contents",
   "toc_cell": false,
   "toc_position": {},
   "toc_section_display": true,
   "toc_window_display": false
  }
 },
 "nbformat": 4,
 "nbformat_minor": 4
}
